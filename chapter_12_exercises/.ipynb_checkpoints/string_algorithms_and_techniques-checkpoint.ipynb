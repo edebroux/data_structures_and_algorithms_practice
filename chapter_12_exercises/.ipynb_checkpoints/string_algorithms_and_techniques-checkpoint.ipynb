{
 "cells": [
  {
   "cell_type": "markdown",
   "metadata": {},
   "source": [
    "# String Algorithms and Techniques\n",
    "### String notations and concepts\n",
    "Strings are basicallly a sequence of objects, mainly a sequence of characters. As with any other data type, such as an `int` or `float`, we need to store the data and operations that have to be applied to them. String data types allow us to store the data, and Python provides a rich set of operations and functions that can be applied to the data of the string type. Most of the operations and functions provided by Python that can be applied to the strings were described in Chapter 1.\n",
    "\n",
    "Strings are mainly textual data that is generally handled very efficiently. The following is an example of a string:\n",
    "```python \n",
    "\"packt publishing\" \n",
    "```\n",
    "A substring is also a sequence of characters that is part of the given string. For example, `\"packt\"` is a substring for the string `\"packt publishing\"`.\n",
    "\n",
    "A subsequence is a sequence of characters that can be obtained from the given string by removing some of the characters from the string but by keeping the order of occurrence of the characters. For example, `\"pct publishing\"` is a valid subsequence for the string `\"packt pblishing\"` that is obtained by removing the characters a, k, and u. However, this is not a substring. A subsequence is different from a substring, since it can be considered as a generalization of substrings.\n",
    "\n",
    "The prefix of a string, `s`, is the substring of `s` in that it is present in the starting of the string. There is also another string, `u`, that exists in the string `s` after the prefix. For example, the substring `\"pack\"` is a prefix for the string `s = \"packt publishing\"` as it is starting the substring and there is another substring after it.\n",
    "\n",
    "The suffix `d` is a substring that is present at the end of the string `s` so that there is another nonempty substring existing before substring `d`.  For example, the substring `\"shing\"` is the suffix for the string `\"packt publishing\"`. Python has built-in functions to check whether a string has a given prefix or suffix as shown in the code snippet:"
   ]
  },
  {
   "cell_type": "code",
   "execution_count": 1,
   "metadata": {},
   "outputs": [
    {
     "name": "stdout",
     "output_type": "stream",
     "text": [
      "True\n",
      "True\n"
     ]
    }
   ],
   "source": [
    "string = \"this is data structures book by packt publisher\"\n",
    "suffix = \"publisher\"\n",
    "prefix = \"this\"\n",
    "print(string.endswith(suffix))   # Check if string contains given suffix\n",
    "print(string.startswith(prefix)) # Check if string contains given prefix"
   ]
  },
  {
   "cell_type": "markdown",
   "metadata": {},
   "source": [
    "Pattern matching algorithms are the most important string processing algorithms, and we will be discussing them in subsequent sections.\n",
    "### Pattern matching algorithms\n",
    "A pattern matching algorithm is used to determine the index positions where a given pattern string is matched in a text string. It returns `\"pattern not found\"` if the pattern does not match in the text string. For example, for the given string `s = \"packt publisher\"`, and the pattern `p = \"publisher\"`, the pattern matching algorithm returns the index position where the pattern is matched in the text string.\n",
    "\n",
    "In this section, we will discuss four pattern matching algorithms, that is, the brute-force method, as well as the Rabin-Karp algorithm, Knuth-Morris-Pratt (KMP), and Boyer-Moore pattern matching algorithms.\n",
    "### The brute-force algorithm\n",
    "The brute-force algorithm, or naive approach for the pattern matching algorithm, is very basic. Using this, we simply test all the possible combinations of the input pattern in the given string to find the position of occurrence of the pattern. This algorithm is very naive and is not suitable if the text is very long.\n",
    "\n",
    "Here, we start by comparing the characters of the pattern and the text string one by one, and if all the characters of the pattern are matched with the text, we return the index position of the text where the first character of the pattern is placed. If any character of the pattern is mismatched with the text string, we shift the pattern by one place. We continue comparing the pattern and text string by shifting the pattern by one index position.\n",
    "\n",
    "Here, let's consider the Python implementation of the brute-force algorithm for pattern matching:"
   ]
  },
  {
   "cell_type": "code",
   "execution_count": 2,
   "metadata": {},
   "outputs": [
    {
     "name": "stdout",
     "output_type": "stream",
     "text": [
      "\n",
      "Pattern occours at index 14\n"
     ]
    }
   ],
   "source": [
    "def brute_force(text, pattern):\n",
    "    l1 = len(text)      # The text which is to be checked for the existence of the pattern\n",
    "    l2 = len(pattern)   # The pattern to be determined in the text\n",
    "    i= 0\n",
    "    j=0          \n",
    " # looping variables are set to 0\n",
    "\n",
    "    flag = False        # If the pattern doesn't appear at all, then set this to false and execute the last if statement\n",
    "    while i < l1:       # iterating from the 0th index of text\n",
    "        j = 0\n",
    "        count = 0       # Count stores the length upto which the pattern and the text have matched\n",
    "        while j < l2:\n",
    "            if i+j<l1 and text[i+j] == pattern[j]:  # statement to check if a match has occoured or not\n",
    "                count += 1                          # if the statement evaluates to true, then update count\n",
    "            j += 1\n",
    "        if count == l2:                             # if total number of successful matches is equal to count of the array\n",
    "            print(\"\\nPattern occours at index\", i)   # print the starting index of the successful match\n",
    "            flag = True                             # Even if the matching occours once, set this flag to True\n",
    "        i += 1\n",
    "    if not flag:                                    # If the pattern doesn't occours even once, this statement gets executed\n",
    "        print('\\nPattern is not at all present in the array')\n",
    "\n",
    "brute_force('acbcabccababcaacbcaabacbbc','acbcaa')                    # function call"
   ]
  },
  {
   "cell_type": "markdown",
   "metadata": {},
   "source": [
    "In the preceding code for the brute-force approach, we start by computing the length of the given text strings and pattern. We also initialize the looping variables with `0` and set the flag to `False`. this variable is used to continue searching for a match of the pattern in the string. If the flag is `False` by the end of the text string, it means that there is no match of the pattern at all in the text string.\n",
    "\n",
    "Next, we start the searching loop from the 0<sup>th</sup> index to the end of the text string. In this loop, we have a count variable that is used to keep track of the length up to which the pattern and the text have been matched. Next, we have another nested loop that runs from the 0<sup>th</sup> index to the length of the pattern. Here, the variable `i`  keeps track of the index position in the text string and the variable `j` keeps track of the characters in the pattern. Next, we compare the characters of the patterns and the text string using the following code fragment:\n",
    "```python\n",
    "if i + j < l1 and text[i+j] == pattern[j]:\n",
    "```\n",
    "Furthermore, we increment the count variable after every match of the character of the pattern in the text string. Then, we continue matching the characters of the pattern and text string. If the length of the pattern becomes equal to the count variable, it means there is a match.\n",
    "\n",
    "We print the index position of the text string if there is a match of the pattern in the text string, and keep the flag variable to `True` as we wish to continue searching for more matches of the patterns in the text string. Finally, if the value of the variable flag is `False`, it means that there was not a match of the pattern in the text string at all.\n",
    "\n",
    "The best-case and worst-case time complexity for the naive string matching algorithms are $\\mathcal{O}(n)$ and $\\mathcal{O}(m*(n-m+1))$, respectively. The best-case occurs when the pattern is not found in the text and first character of the pattern is not present in the text at all, for example, if the text string is `ABAACEBCCDAAEE`, and the pattern is `FAA`. Here, as the first character of the pattern will not match in the text, it will have comparisons equal to the length of the text `n`.\n",
    "\n",
    "The worst-case occurs when all characters of the text string and the pattern are the same, for example, if the text string is `AAAAAAAAAAA`, and the pattern is `AAAA`. Another worst case scenario occurs when only the last character is different, for example, if the text string is `AAAAAAAAAAAAAF` and the pattern is `AAAAF`. Thus, worst-case time complexity would be $\\mathcal{O}(m*(n-m+1))$.\n",
    "### Rabin-Karp algorithm\n"
   ]
  },
  {
   "cell_type": "code",
   "execution_count": null,
   "metadata": {},
   "outputs": [],
   "source": []
  }
 ],
 "metadata": {
  "kernelspec": {
   "display_name": "Python 3.6.9 64-bit",
   "language": "python",
   "name": "python36964bita77d8b3ebc6c42fe84848c25c36134b2"
  },
  "language_info": {
   "codemirror_mode": {
    "name": "ipython",
    "version": 3
   },
   "file_extension": ".py",
   "mimetype": "text/x-python",
   "name": "python",
   "nbconvert_exporter": "python",
   "pygments_lexer": "ipython3",
   "version": "3.6.9"
  }
 },
 "nbformat": 4,
 "nbformat_minor": 4
}
