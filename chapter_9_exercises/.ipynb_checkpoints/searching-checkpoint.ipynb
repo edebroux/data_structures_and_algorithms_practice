{
 "cells": [
  {
   "cell_type": "markdown",
   "metadata": {},
   "source": [
    "# Searching\n",
    "### Intro to searching\n",
    "- Searching algorithms can be applied to a list of items that are already sorted; that is, applied to the ordered set of items\n",
    "- The searching algorithm to an unordered set of items\n",
    "### Linear search\n",
    "The *searching* operation is to find out a given item from the stored data. If the searched item is available in the stored list then it returns the index position where it is located, or else it returns that the item is not found. The simplest approach to search for an item in a list is the linear search method, going through a list one-by-one until the item is found or go the enite list without finding the item.\n",
    "### Unordered linear search\n",
    "The linear search approach depends on how the list items are stored-whether they are sorted in order or stored without any order. Let's first see if a list has items that are not sorted.\n",
    "\n",
    "Here is the implement in Python for the lienar search on an undered list of items:\n",
    "```python\n",
    "def usearch(unordered_list, term):\n",
    "    unordered_list_size = len(unordered_list)\n",
    "    for i in range(unordered_list_size):\n",
    "        if term == unordered_list[i]:\n",
    "            return i\n",
    "        \n",
    "    return None\n",
    "```\n",
    "This code should be pretty self-explanatory. The worst-case runtime for this search algorithm is $\\mathcal{O}(n)$.\n",
    "### Ordered linear search\n",
    "Another case in a linear search is when the list elements have been sorted; then our search algorithm can be improved. Assuming the elements have been sorted in ascencing order, the search operation can take advantage of the ordered nature of the list to make the search algorithm more efficient.\n",
    "\n",
    "The algorithm is reduced to the following steps:\n",
    "1. Move through the list sequentially\n",
    "2. If a search item is greater than the object or item currently under inspection in then quit and return `None`\n",
    "\n",
    "In the process of iterating through the list, if the search term is greater than the current item, then there is no need to continue with the search.\n",
    "\n",
    "Here is the implementation of the linear search for a sorted list:\n",
    "```python\n",
    "def osearch(ordered_list, term):\n",
    "    ordered_list_length = len(ordered_list)\n",
    "    for i in range(ordered_list_length):\n",
    "        if term == ordered_list[i]:\n",
    "            return i\n",
    "        elif ordered_list[i] > term:\n",
    "            return None\n",
    "        \n",
    "    return None\n",
    "```\n",
    "Again, the worst-case runtime for this search algorithm is $\\mathcal{O}(n)$.\n",
    "### Binary search\n",
    "A binary search's worst-case runtime is $\\mathcal{O}(log_2(n))$, which occurs since the list is split into halves until the item you are searching for in a sorted list. Here is the Python implementation of the binary search algorithm:\n",
    "```python\n",
    "def binary_search_iterative(ordered_list, term):\n",
    "    size_of_list = len(ordered_list) - 1\n",
    "    idx_of_first_element = 0\n",
    "    idx_of_last_element = size_of_list\n",
    "    while idx_of_first_element <= idx_of_last_element:\n",
    "        midpoint = (idx_of_first_element + idx_of_last_element) // 2\n",
    "        # Cases of the search <, > , ==\n",
    "        if ordered_list[midpoint] == term:\n",
    "            return midpoint\n",
    "        elif term > ordered_list[midpoint]:\n",
    "            idx_of_first_element = midpoint + 1\n",
    "        else:\n",
    "            idx_of_last_element = midpoint - 1\n",
    "        \n",
    "    if idx_of_first_element > idx_of_last_element:\n",
    "        return None\n",
    "```\n",
    "This is the implementation without recursive algorithms. We can use a recursive call to perform a binary search as well.\n",
    "```python\n",
    "def binary_search_recursive(ordered_list, first_element_index, last_element_index, term):\n",
    "    if last_element_idx < first_element_idx:\n",
    "        return None\n",
    "    else:\n",
    "        midpoint = (first_element_idx + last_element_idx) // 2\n",
    "        if ordered_list[midpoint] > term:\n",
    "            return binary_search_recursive(ordered_list, first_element_idx, midpoint - 1, term)\n",
    "        elif ordered_list[midpoint] < term:\n",
    "            return binary_search_recursive(ordered_list, midpoint + 1, last_element_idx, term)\n",
    "        else:\n",
    "            return midpoint\n",
    "```"
   ]
  },
  {
   "cell_type": "code",
   "execution_count": 14,
   "metadata": {},
   "outputs": [],
   "source": [
    "def usearch(unordered_list, term):\n",
    "    unordered_list_size = len(unordered_list)\n",
    "    for i in range(unordered_list_size):\n",
    "        if term == unordered_list[i]:\n",
    "            return i\n",
    "    return None\n",
    "\n",
    "def osearch(ordered_list, term):\n",
    "    ordered_list_length = len(ordered_list)\n",
    "    for i in range(ordered_list_length):\n",
    "        if term == ordered_list[i]:\n",
    "            return i\n",
    "        elif ordered_list[i] > term:\n",
    "            return None\n",
    "\n",
    "    return None\n",
    "\n",
    "def binary_search_iterative(ordered_list, term):\n",
    "    size_of_list = len(ordered_list) - 1\n",
    "    idx_of_first_element = 0\n",
    "    idx_of_last_element = size_of_list\n",
    "    while idx_of_first_element <= idx_of_last_element:\n",
    "        midpoint = (idx_of_first_element + idx_of_last_element) // 2\n",
    "        # Cases of the search <, > , ==\n",
    "        if ordered_list[midpoint] == term:\n",
    "            return midpoint\n",
    "        elif term > ordered_list[midpoint]:\n",
    "            idx_of_first_element = midpoint + 1\n",
    "        else:\n",
    "            idx_of_last_element = midpoint - 1\n",
    "\n",
    "    if idx_of_first_element > idx_of_last_element:\n",
    "        return None\n",
    "\n",
    "def binary_search_recursive(ordered_list, first_element_idx, last_element_idx, term):\n",
    "    if last_element_idx < first_element_idx:\n",
    "        return None\n",
    "    else:\n",
    "        midpoint = (first_element_idx + last_element_idx) // 2\n",
    "        if ordered_list[midpoint] > term:\n",
    "            return binary_search_recursive(ordered_list, first_element_idx, midpoint - 1, term)\n",
    "        elif ordered_list[midpoint] < term:\n",
    "            return binary_search_recursive(ordered_list, midpoint + 1, last_element_idx, term)\n",
    "        else:\n",
    "            return midpoint"
   ]
  },
  {
   "cell_type": "code",
   "execution_count": 15,
   "metadata": {},
   "outputs": [],
   "source": [
    "unordered_list = [2, 5, 34, 1, 23, 4]\n",
    "ordered_list = sorted([1, 4, 18, 2349, 12, 123, 10])"
   ]
  },
  {
   "cell_type": "code",
   "execution_count": 16,
   "metadata": {},
   "outputs": [
    {
     "data": {
      "text/plain": [
       "1"
      ]
     },
     "execution_count": 16,
     "metadata": {},
     "output_type": "execute_result"
    }
   ],
   "source": [
    "usearch(unordered_list, 5)"
   ]
  },
  {
   "cell_type": "code",
   "execution_count": 17,
   "metadata": {},
   "outputs": [],
   "source": [
    "usearch(unordered_list, 10)"
   ]
  },
  {
   "cell_type": "code",
   "execution_count": 18,
   "metadata": {},
   "outputs": [
    {
     "data": {
      "text/plain": [
       "1"
      ]
     },
     "execution_count": 18,
     "metadata": {},
     "output_type": "execute_result"
    }
   ],
   "source": [
    "osearch(ordered_list, 4)"
   ]
  },
  {
   "cell_type": "code",
   "execution_count": 19,
   "metadata": {},
   "outputs": [],
   "source": [
    "osearch(ordered_list, 12345)"
   ]
  },
  {
   "cell_type": "code",
   "execution_count": 20,
   "metadata": {},
   "outputs": [
    {
     "data": {
      "text/plain": [
       "4"
      ]
     },
     "execution_count": 20,
     "metadata": {},
     "output_type": "execute_result"
    }
   ],
   "source": [
    "binary_search_iterative(ordered_list, 18)"
   ]
  },
  {
   "cell_type": "code",
   "execution_count": 21,
   "metadata": {},
   "outputs": [
    {
     "data": {
      "text/plain": [
       "4"
      ]
     },
     "execution_count": 21,
     "metadata": {},
     "output_type": "execute_result"
    }
   ],
   "source": [
    "binary_search_recursive(ordered_list, 0, len(ordered_list), 18)"
   ]
  },
  {
   "cell_type": "markdown",
   "metadata": {},
   "source": [
    "### Interpolation search\n",
    "The interpolation searching algorithm is an improved version of the binary search algorithm. It performs efficiently when there are uniformly distributed elements in a sorted list. In an interpolation search, the starting position is most likely to be the closest to the start or end of the list depending on the search item. If the search item is near to the first element in the list, then the starting position is likely to be neaar the start of the list.\n",
    "\n",
    "The interpolation search is another variant of the binary search algorithm that is quite similar to how humans perform the search on any list of items. It is based on trying to make a good guess of the index position where a search item is likely to be found in a sorted list of items. It works similarly to the binary search algorithm except for the method to determine the splitting criteria to divide the data in order to reduce the number of comparisons:\n",
    "\n",
    "`midpoint = lower_bound_idx + ((upper_bound_idx - lower_bound_idx) // (input_list[upper_bound_idx] - input_list[lower_bound_idx])) * (search_value - input_list[lower_bound_index])`\n",
    "\n",
    "We replace this formula with a function:\n",
    "```python\n",
    "def nearest_mid(input_list, lower_bound_idx, upper_bound_idx, term):\n",
    "    return lower_bound_idx + ((upper_bound_idx - lower_bound_idx) // (input_list[upper_bound_idx] -input_list[lower_bound_idx])) * (term - input_list[lower_bound_index])\n",
    "```\n",
    "Given our search list, `[44, 60, 75, 100, 120, 230, 250]`, `nearest_mid` will be computed with the following values:\n",
    "```python\n",
    "lower_bound_idx = 0\n",
    "upper_bound_idx = 6\n",
    "input_list[upper_bound_idx] = 250\n",
    "input_list[lower_bound_idx] = 44\n",
    "term = 230\n",
    "# Compute midpoint\n",
    "midpoint = 0 + ((6 - 0) // (250 - 44)) * (230-44)\n",
    "print(midpoint)\n",
    "```\n",
    "Would return 5."
   ]
  },
  {
   "cell_type": "code",
   "execution_count": 23,
   "metadata": {},
   "outputs": [
    {
     "name": "stdout",
     "output_type": "stream",
     "text": [
      "0\n"
     ]
    }
   ],
   "source": [
    "#lower_bound_idx = 0\n",
    "#upper_bound_idx = 6\n",
    "#input_list[upper_bound_idx] = 250\n",
    "#input_list[lower_bound_idx] = 44\n",
    "#term = 230\n",
    "# Compute midpoint\n",
    "midpoint = 0 + ((6 - 0) // (250 - 44)) * (230-44)\n",
    "print(midpoint)"
   ]
  },
  {
   "cell_type": "code",
   "execution_count": 24,
   "metadata": {},
   "outputs": [],
   "source": [
    "def nearest_mid(input_list, lower_bound_index, upper_bound_index, search_value):\n",
    "    return lower_bound_index + ((upper_bound_index - lower_bound_index)// (input_list[upper_bound_index] - input_list[lower_bound_index])) * (search_value - input_list[lower_bound_index])"
   ]
  },
  {
   "cell_type": "code",
   "execution_count": 25,
   "metadata": {},
   "outputs": [
    {
     "name": "stdout",
     "output_type": "stream",
     "text": [
      "Index position of value 2 is  0\n"
     ]
    }
   ],
   "source": [
    "def interpolation_search(ordered_list, term):\n",
    "    size_of_list = len(ordered_list) - 1\n",
    "    index_of_first_element = 0\n",
    "    index_of_last_element = size_of_list\n",
    "    while index_of_first_element <= index_of_last_element:\n",
    "        mid_point = nearest_mid(ordered_list, index_of_first_element, index_of_last_element, term)\n",
    "        if mid_point > index_of_last_element or mid_point < index_of_first_element:\n",
    "            return None\n",
    "        if ordered_list[mid_point] == term:\n",
    "            return mid_point\n",
    "        if term > ordered_list[mid_point]:\n",
    "            index_of_first_element = mid_point + 1\n",
    "        else:\n",
    "            index_of_last_element = mid_point - 1\n",
    "\n",
    "\n",
    "\n",
    "store = [2, 4, 5, 12, 43, 54, 60, 77]\n",
    "a = interpolation_search(store, 2)\n",
    "print(\"Index position of value 2 is \",a)"
   ]
  }
 ],
 "metadata": {
  "kernelspec": {
   "display_name": "Python 3.6.9 64-bit",
   "language": "python",
   "name": "python36964bita77d8b3ebc6c42fe84848c25c36134b2"
  },
  "language_info": {
   "codemirror_mode": {
    "name": "ipython",
    "version": 3
   },
   "file_extension": ".py",
   "mimetype": "text/x-python",
   "name": "python",
   "nbconvert_exporter": "python",
   "pygments_lexer": "ipython3",
   "version": "3.6.9"
  }
 },
 "nbformat": 4,
 "nbformat_minor": 4
}
