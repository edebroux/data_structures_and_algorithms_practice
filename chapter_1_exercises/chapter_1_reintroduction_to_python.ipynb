{
 "cells": [
  {
   "cell_type": "markdown",
   "metadata": {},
   "source": [
    "### Variables and expressions\n",
    "__Variables:__ Labels that are attached to objects. Variables are not objects nor containers for objects; they only a pointer or a reference to the object."
   ]
  },
  {
   "cell_type": "code",
   "execution_count": 1,
   "metadata": {},
   "outputs": [
    {
     "data": {
      "text/plain": [
       "[2, 4, 6, 8]"
      ]
     },
     "execution_count": 1,
     "metadata": {},
     "output_type": "execute_result"
    }
   ],
   "source": [
    "# A list of the first three positive integers stored as a list. a is the pointer to this list.\n",
    "a = [2, 4, 6]\n",
    "\n",
    "# Now b reference to a list that is equal to the list a\n",
    "b = a\n",
    "\n",
    "# We add 8, the fourth positive even integer, to a\n",
    "a.append(8)\n",
    "\n",
    "# Return b\n",
    "b"
   ]
  },
  {
   "cell_type": "markdown",
   "metadata": {},
   "source": [
    "Variable names are attached to different data types during the program execution; it is not required to first declare the datatype fro the varaibles. Each value is of a type; however, the variable name that points to this value does not have a specific type. More specifically, variables point to an object that can change their type depending on the values assigned to them."
   ]
  },
  {
   "cell_type": "code",
   "execution_count": 2,
   "metadata": {},
   "outputs": [
    {
     "name": "stdout",
     "output_type": "stream",
     "text": [
      "<class 'int'>\n",
      "<class 'float'>\n"
     ]
    }
   ],
   "source": [
    "# Set a to a single integer value\n",
    "a = 1\n",
    "\n",
    "# see the data type of a -- int\n",
    "print(type(a))\n",
    "\n",
    "# Add 0.1 to 1 and store that as a\n",
    "a = a + 0.1\n",
    "\n",
    "# see the data type of a -- float\n",
    "print(type(a))"
   ]
  },
  {
   "cell_type": "markdown",
   "metadata": {},
   "source": [
    "### Variable scope\n",
    "Scoping rules of variables insdie functions are important. Whenever a function executes, a local enviornment (namespace) is created. This local namespace contains all the varaibles and parameter names that are assigned by the functions. Whenever a function is called, Python Interpreter first looks into the local namespace that is the function itself-if no match is found, then it looks at the global namespace. If the name is still not found, then it searches the built-in namespace. If it is not found, then the interpreter would raise a `NameError` exception."
   ]
  },
  {
   "cell_type": "code",
   "execution_count": 3,
   "metadata": {},
   "outputs": [
    {
     "name": "stdout",
     "output_type": "stream",
     "text": [
      "a: 11, b: 25\n"
     ]
    }
   ],
   "source": [
    "# Define to variables pointing to two different integers\n",
    "a = 15; b = 25\n",
    "\n",
    "# Define a function called my function\n",
    "def my_function():\n",
    "    global a\n",
    "    a = 11; b = 21\n",
    "    \n",
    "# Call my_function()\n",
    "my_function()\n",
    "print(\"a: \" + str(a) + \", b: \" + str(b))\n",
    "# Should print a: 11, b: 25"
   ]
  },
  {
   "cell_type": "markdown",
   "metadata": {},
   "source": [
    "The code snippet above defines two global variables. We need to tell the interpreter, using the keyword `global`, that inside the function we are referring to a global variable. When we change the value of `a` to 11 in `my_function()`, these changes are reflected in the global scope. The b variable we set to 21 is *local to the function*, and any changes made to it inside the function are not reflected in the global scope. When we run the function and print `b`, we see that it retains its global value."
   ]
  },
  {
   "cell_type": "code",
   "execution_count": 4,
   "metadata": {},
   "outputs": [
    {
     "name": "stdout",
     "output_type": "stream",
     "text": [
      "10\n"
     ]
    }
   ],
   "source": [
    "# New snippet, define a variable and make it equal to 10\n",
    "a = 10\n",
    "\n",
    "# Make a new my function\n",
    "def my_function():\n",
    "    print(a)\n",
    "    \n",
    "my_function()"
   ]
  },
  {
   "cell_type": "code",
   "execution_count": 5,
   "metadata": {},
   "outputs": [
    {
     "ename": "UnboundLocalError",
     "evalue": "local variable 'a' referenced before assignment",
     "output_type": "error",
     "traceback": [
      "\u001b[0;31m---------------------------------------------------------------------------\u001b[0m",
      "\u001b[0;31mUnboundLocalError\u001b[0m                         Traceback (most recent call last)",
      "\u001b[0;32m<ipython-input-5-865fe20cdbec>\u001b[0m in \u001b[0;36m<module>\u001b[0;34m\u001b[0m\n\u001b[1;32m      5\u001b[0m \u001b[0;34m\u001b[0m\u001b[0m\n\u001b[1;32m      6\u001b[0m \u001b[0;31m# Call my_function()\u001b[0m\u001b[0;34m\u001b[0m\u001b[0;34m\u001b[0m\u001b[0;34m\u001b[0m\u001b[0m\n\u001b[0;32m----> 7\u001b[0;31m \u001b[0mmy_function\u001b[0m\u001b[0;34m(\u001b[0m\u001b[0;34m)\u001b[0m\u001b[0;34m\u001b[0m\u001b[0;34m\u001b[0m\u001b[0m\n\u001b[0m",
      "\u001b[0;32m<ipython-input-5-865fe20cdbec>\u001b[0m in \u001b[0;36mmy_function\u001b[0;34m()\u001b[0m\n\u001b[1;32m      1\u001b[0m \u001b[0;31m# Re-write the code to add 1 to a within the function; produces error\u001b[0m\u001b[0;34m\u001b[0m\u001b[0;34m\u001b[0m\u001b[0;34m\u001b[0m\u001b[0m\n\u001b[1;32m      2\u001b[0m \u001b[0;32mdef\u001b[0m \u001b[0mmy_function\u001b[0m\u001b[0;34m(\u001b[0m\u001b[0;34m)\u001b[0m\u001b[0;34m:\u001b[0m\u001b[0;34m\u001b[0m\u001b[0;34m\u001b[0m\u001b[0m\n\u001b[0;32m----> 3\u001b[0;31m     \u001b[0mprint\u001b[0m\u001b[0;34m(\u001b[0m\u001b[0ma\u001b[0m\u001b[0;34m)\u001b[0m\u001b[0;34m\u001b[0m\u001b[0;34m\u001b[0m\u001b[0m\n\u001b[0m\u001b[1;32m      4\u001b[0m     \u001b[0ma\u001b[0m \u001b[0;34m=\u001b[0m \u001b[0ma\u001b[0m \u001b[0;34m+\u001b[0m \u001b[0;36m1\u001b[0m\u001b[0;34m\u001b[0m\u001b[0;34m\u001b[0m\u001b[0m\n\u001b[1;32m      5\u001b[0m \u001b[0;34m\u001b[0m\u001b[0m\n",
      "\u001b[0;31mUnboundLocalError\u001b[0m: local variable 'a' referenced before assignment"
     ]
    }
   ],
   "source": [
    "# Re-write the code to add 1 to a within the function; produces error\n",
    "def my_function():\n",
    "    print(a)\n",
    "    a = a + 1\n",
    "    \n",
    "# Call my_function()\n",
    "my_function()"
   ]
  },
  {
   "cell_type": "markdown",
   "metadata": {},
   "source": [
    "The preceding code gives an error because assignment to a variable in a scope makes that local variable to that scope. In the preceding example, in the `my_function()` assignment to the `a` variable, the complier assumes a as a local variable. and that is why eariler `print()` function tries to print a local variable `a`, which is not initialized as a local variable; thus it gives an error. It can be resolved by accessing the outer scope variable and declaring it as a global variable."
   ]
  },
  {
   "cell_type": "code",
   "execution_count": 6,
   "metadata": {},
   "outputs": [
    {
     "name": "stdout",
     "output_type": "stream",
     "text": [
      "10\n"
     ]
    }
   ],
   "source": [
    "a = 10\n",
    "\n",
    "def my_function():\n",
    "    global a\n",
    "    print(a)\n",
    "    a = a + 1\n",
    "    # print(a) would print 11\n",
    "    \n",
    "my_function()"
   ]
  },
  {
   "cell_type": "markdown",
   "metadata": {},
   "source": [
    "### Flow control and iteration\n",
    "Python programs consist of a sequence of statements. The interpret executes each statement in order until there are no more statements. This is true if files run as the main program, as well as if they are loaded via `import`. All statements, including variable assignment, function definitions, class definitions, and module imports, have equal status. There are no special statemnts that have higher priority than any other, and every statement can be placed anywhere in a program. All the instructions/statements in the program are executed in sequence in general. However, there are two main ways controlling the flow of program execution-conditional statements and loops.\n",
    "\n",
    "The `if...else` and `elif` statements control the conditional execution of statements. The general format is a series of `if` and `elif` statements followed by a final `else` statement:"
   ]
  },
  {
   "cell_type": "code",
   "execution_count": 7,
   "metadata": {},
   "outputs": [
    {
     "name": "stdout",
     "output_type": "stream",
     "text": [
      "Something else\n"
     ]
    }
   ],
   "source": [
    "x = 'one'\n",
    "\n",
    "if x == 0:\n",
    "    print(False)\n",
    "    \n",
    "elif x == 1:\n",
    "    print(True)\n",
    "\n",
    "else:\n",
    "    print(\"Something else\")"
   ]
  },
  {
   "cell_type": "markdown",
   "metadata": {},
   "source": [
    "We see that Python passes the x to the `else` part of the conditional statement despite x not being an integer or floating point data type, i.e. it represses an error that would likely appear in non-dynamic languages like Java.\n",
    "\n",
    "We can also control the flow of the program with loops. Python allows us to use `while` or `for` loop statements."
   ]
  },
  {
   "cell_type": "code",
   "execution_count": 8,
   "metadata": {},
   "outputs": [
    {
     "name": "stdout",
     "output_type": "stream",
     "text": [
      "0\n",
      "1\n",
      "2\n"
     ]
    }
   ],
   "source": [
    "x = 0\n",
    "\n",
    "while x < 3:\n",
    "    print(x)\n",
    "    x += 1"
   ]
  },
  {
   "cell_type": "code",
   "execution_count": 9,
   "metadata": {},
   "outputs": [
    {
     "name": "stdout",
     "output_type": "stream",
     "text": [
      "cat\n",
      "dog\n",
      "elephant\n"
     ]
    }
   ],
   "source": [
    "words = ['cat', 'dog', 'elephant']\n",
    "\n",
    "for w in words:\n",
    "    print(w)"
   ]
  },
  {
   "cell_type": "markdown",
   "metadata": {},
   "source": [
    "### Review of Data types\n",
    "There are various built-in data types when using Python:\n",
    "- Four numeric types: `int, float, complex, bool`\n",
    "- Four sequence types: `str, list, tuple, range`\n",
    "- One mapping type: `dict`\n",
    "- Two set types\n",
    "We can also create user-defined objects, such as functions or classes. All data types in Python are **objects**. Almost everything is an object of some sort in Python, including modules, classes, and functions, as well as literals such as strings and integers. Each object in Python has a **type**, a **value**, and an **identity**. When we write `greet = \"helloworld\"`, we are creating an instance of a string object with the value `\"helloworld\"` and the identity `greet`. The identity of an object acts as a point to the object's location in memory. The type of an object, also known as the object's class, describes the object's internal representation, as well as the methods and operations it supports. Once an instance of an object is created, its identity and type cannot be changed.\n",
    "\n",
    "We can get the identity of an object by using the built-in function `id()`. This returns an identifying integer and on most systems, this refers to its memory location, although you should not rely on this in any of your code. We can compare objects in a few ways:\n",
    "\n",
    "```python\n",
    "if a == b:  # Checks to see if a and b have the same value\n",
    "    \n",
    "if a is b:  # Checks to see if a and b are the same object\n",
    "    \n",
    "if type(a) is type(b):  # Checks to see if a and b are the same type\n",
    "```    \n",
    "\n",
    "An important distinction needs to be made between **mutable** and **immutable** objects. Mutable objects such as lists can have their values changed. They have methods, such as `insert()` or `append()`, that change an object's value. Immutable objects such as strings cannot have their values changed, so when we run their methods, they simply return a value rather than change the value of an underlying object. We can, of course, use this value by assigning it to a variable or using it as an argument in a function. For example, the `int` class is immutable-once an instance is created, its value cannot be changed. However, an identifier referencing this object can be reassigned another value.\n",
    "### Strings\n",
    "Strings are immutable sequence objects, with each character representing an element in the sequence. As with all objects, we use methods to perform operations. Strings, being immutable, do not change the instance; each method simply returns a value. This value can be stored as another variable or given as an argument to a function or method. Here are some methods:\n",
    "\n",
    "| Method | Descriptions |\n",
    "| :----- | :----------- |\n",
    "| `s.capitalize` | Returns a string with only the first character <br> capitalized, the rest remaining lowercase. |\n",
    "| `s.count(substring, [start, end])` | Counts occurences of a substring |\n",
    "| `s.expandtabs([tabsize])` | Replaces tabs with spaces |\n",
    "| `s.endswith(substring, [start, end])` | Returns `True` if a string ends with a specified <br> substring |\n",
    "| `s.find(substring, [start, end])` | Returns index of first presence of a substring |\n",
    "| `s.isalnum()` | Returns `True`if all characters are alphanumeric of <br> string `s` |\n",
    "| `s.isalpha()` | Returns `True` if all characters are alphabetic of <br> string `s` |\n",
    "| `s.isdigit()` | Returns `True` if all characters are digits in the string |\n",
    "| `s.split([separator], [maxsplit])` | Splits a string separated by whitespace or an <br> optional separator. Returns a list. |\n",
    "| `s.join(t)` | Joins string(s) `s` to sequence `t` |\n",
    "| `s.lower()` | Converts the string to all lowercase. |\n",
    "| `s.replace(old, new[max_replace])` | Replaces old substring with a new substring |\n",
    "| `s.startswith(substring, [start, end])` | Returns `True` if the string starts with a <br> specified substring |\n",
    "| `s.swapcase()` | Returns a copy of the string with swapped case <br> in the string. |\n",
    "| `s.strip([characters])` | Removes whitespace or optional characters |\n",
    "| `s.lstrip([characters])` | Returns a copy of the string with leading characters removed |\n",
    "\n",
    "Strings, like all sequence types, support indexing and slicing. We can retrieve any character from a string by using its index `s[i]`. We can retrieve a slice of a string by using `s[i:j]` where `i` and `j` are the strart and nd points of the slice. We can return an extended slice by using a stride, as in the follwing-`s[i:j:stride]`."
   ]
  },
  {
   "cell_type": "code",
   "execution_count": 10,
   "metadata": {},
   "outputs": [
    {
     "name": "stdout",
     "output_type": "stream",
     "text": [
      "e\n",
      "hello wo\n",
      "hlow\n",
      "hlowrd\n"
     ]
    }
   ],
   "source": [
    "greet = \"hello world\"\n",
    "\n",
    "# Prints h\n",
    "print(greet[1])\n",
    "# Prints hello wo\n",
    "print(greet[0:8])\n",
    "# Prints hlow, i.e. the 1st, 3rd, 5th, and 7th chars in hello world\n",
    "print(greet[0:8:2])\n",
    "# Prints hlowrd, i.e. every odd index character in hello world\n",
    "print(greet[0::2])"
   ]
  },
  {
   "cell_type": "markdown",
   "metadata": {},
   "source": [
    "You can use any expression, variable, or operator as an index as long as the value is an integer:"
   ]
  },
  {
   "cell_type": "code",
   "execution_count": 11,
   "metadata": {},
   "outputs": [
    {
     "name": "stdout",
     "output_type": "stream",
     "text": [
      "l\n",
      "d\n",
      "(0, 'h')\n",
      "(1, 'e')\n",
      "(2, 'l')\n",
      "(3, 'l')\n",
      "(4, 'o')\n"
     ]
    }
   ],
   "source": [
    "print(greet[1+2])            # Prints l\n",
    "print(greet[len(greet)-1])   # Prints the last character, d; if len(greet) was used as index, we would get an \n",
    "                             # out of bounds error\n",
    "# Prints a tuple of the index and the character at that index    \n",
    "for i in enumerate(greet[0:5]): print(i)"
   ]
  },
  {
   "cell_type": "markdown",
   "metadata": {},
   "source": [
    "We can insert characters or sequences of characters by using the `+` character."
   ]
  },
  {
   "cell_type": "code",
   "execution_count": 12,
   "metadata": {},
   "outputs": [
    {
     "name": "stdout",
     "output_type": "stream",
     "text": [
      "hello wonderful  world\n"
     ]
    }
   ],
   "source": [
    "print(greet[:5] + \" wonderful \" + greet[5:])"
   ]
  },
  {
   "cell_type": "markdown",
   "metadata": {},
   "source": [
    "We cannot add character strings, unless we changed those strings to some numeric type, as so:"
   ]
  },
  {
   "cell_type": "code",
   "execution_count": 13,
   "metadata": {},
   "outputs": [
    {
     "name": "stdout",
     "output_type": "stream",
     "text": [
      "32\n",
      "5\n"
     ]
    }
   ],
   "source": [
    "x = '3'; y = '2'\n",
    "\n",
    "# Concatenates the strings to make '32'\n",
    "print(x + y)\n",
    "\n",
    "# Adds 3 and 2 together and returns 5\n",
    "print(int(x) + int(y))"
   ]
  },
  {
   "cell_type": "markdown",
   "metadata": {},
   "source": [
    "### Lists\n",
    "Lists can store any number of different data types. They are simple representations of objects and are indexed by integers starting from zero, as we saw in the case of strings.\n",
    "\n",
    "| Method | Description |\n",
    "| :----- | :---------- |\n",
    "| `list(s)` | Returns a list of sequence `s` |\n",
    "| `s.apppend(x)` | Appends element `x` at the end of list `s` |\n",
    "| `s.extend(x)` | Appends list `x` at the end of list `s` |\n",
    "| `s.count(x)` | Returns the count of the occurence of `x` in list `s` |\n",
    "| `s.index(x, [start], [stop])` | Returns the smallest index `i` where `s[i] == x`. We can include an optional start <br> and stop index for the lookup |\n",
    "| `s.insert(i, x)` | Inserts `x` at index `i` |\n",
    "| `s.pop(i)` | Returns the element `i` and removes it from the list `s` |\n",
    "| `s.remove(x)` | Removes element `x` from the list `s` |\n",
    "| `s.reverse()` | Reverses the order of the list `s` |\n",
    "| `s.sort(key, [reverse])` | Sorts list `s` with optional key and reverses it. |\n",
    "\n",
    "Lists implementation is different when compared to other languages. Python does not create multiple copies of a variable. For example, when we assign a value of one variable in another variable, both variables point to the same memory address where the value is stored. A copy would only be allocated if the variables change their values. This feature makes Python memory efficient, in the sense that it only creates multiple copies when it is required.\n",
    "\n",
    "This has important consequences for mutable compound objects such as lists."
   ]
  },
  {
   "cell_type": "code",
   "execution_count": 14,
   "metadata": {},
   "outputs": [
    {
     "data": {
      "text/plain": [
       "[1, 4, 3]"
      ]
     },
     "execution_count": 14,
     "metadata": {},
     "output_type": "execute_result"
    }
   ],
   "source": [
    "x = 1; y = 2; z = 3\n",
    "list1 = [x, y, z]\n",
    "list2 = list1\n",
    "list2[1] = 4\n",
    "list1"
   ]
  },
  {
   "cell_type": "markdown",
   "metadata": {},
   "source": [
    "In the preceding code, both the `list1` and `list2` variables are pointing to the same memory location. However, when we change the `y` through `list2` to `4`, we are actually changing gthe same `y` varaible that `list1` is pointing to as well.\n",
    "\n",
    "An important feature of `list` is that it can contain nested structures; that is, list can contain other lists. For example, in the following code, list items contains three other lists:"
   ]
  },
  {
   "cell_type": "code",
   "execution_count": 15,
   "metadata": {},
   "outputs": [
    {
     "name": "stdout",
     "output_type": "stream",
     "text": [
      "Product: rice Price: 2.40 Quality: 8\n",
      "Product: flour Price: 1.90 Quality: 5\n",
      "Product: corn Price: 4.70 Quality: 6\n"
     ]
    }
   ],
   "source": [
    "items = [[\"rice\", 2.4, 8], [\"flour\", 1.9, 5], [\"corn\", 4.7, 6]]\n",
    "\n",
    "for item in items:\n",
    "    print(\"Product: %s Price: %.2f Quality: %i\" % (item[0], item[1], item[2]))"
   ]
  },
  {
   "cell_type": "markdown",
   "metadata": {},
   "source": [
    "We can create a list from expressions using a very common and intuitive method; that is, **list comprehensions**. It allows us to create a list through an expression directly into the list. Consider the following example, wehere a list `l` is created using this expression:"
   ]
  },
  {
   "cell_type": "code",
   "execution_count": 16,
   "metadata": {},
   "outputs": [
    {
     "data": {
      "text/plain": [
       "[8, 64, 512, 4096]"
      ]
     },
     "execution_count": 16,
     "metadata": {},
     "output_type": "execute_result"
    }
   ],
   "source": [
    "l = [2, 4, 8, 16]\n",
    "[i ** 3 for i in l]"
   ]
  },
  {
   "cell_type": "markdown",
   "metadata": {},
   "source": [
    "List comprehensions can be quite flexible; for example, consider the following code. It essentially shows two different ways to preform a function composition, where we apply one function to another. The following code prints out two lists representing the function composition of `f1` and `f2`, calculated first using a for loop and then using a list comprehension:"
   ]
  },
  {
   "cell_type": "code",
   "execution_count": 17,
   "metadata": {},
   "outputs": [
    {
     "name": "stdout",
     "output_type": "stream",
     "text": [
      "[0, 8, 16, 24, 32, 40, 48, 56, 64, 72, 80, 88, 96, 104, 112, 120]\n",
      "[0, 8, 16, 24, 32, 40, 48, 56, 64, 72, 80, 88, 96, 104, 112, 120]\n"
     ]
    }
   ],
   "source": [
    "def f1(x): return x * 2\n",
    "def f2(x): return x * 4\n",
    "\n",
    "lst = []\n",
    "\n",
    "for i in range(16):\n",
    "    lst.append(f1(f2(i)))\n",
    "    \n",
    "print(lst)\n",
    "print([f1(x) for x in range(64) if x in [f2(j) for j in range(16)]])"
   ]
  },
  {
   "cell_type": "markdown",
   "metadata": {},
   "source": [
    "List comprehensions can also be used to replicate the action of nested loops in a more compact form. For example, we multiply each of the elemetns contained within `list1` with each other:"
   ]
  },
  {
   "cell_type": "code",
   "execution_count": 18,
   "metadata": {},
   "outputs": [
    {
     "name": "stdout",
     "output_type": "stream",
     "text": [
      "[4, 5, 6, 8, 10, 12, 12, 15, 18]\n"
     ]
    }
   ],
   "source": [
    "list1 = [[1, 2, 3], [4, 5, 6]]\n",
    "print([i * j for i in list1[0] for j in list1[1]])"
   ]
  },
  {
   "cell_type": "markdown",
   "metadata": {},
   "source": [
    "We can also use list comprehensions with other objects such as strings to build more complex structures. For example, the folllowing code creates a list of words and their letters count:"
   ]
  },
  {
   "cell_type": "code",
   "execution_count": 19,
   "metadata": {},
   "outputs": [
    {
     "data": {
      "text/plain": [
       "[['here', 4], ['is', 2], ['a', 1], ['sentence', 8]]"
      ]
     },
     "execution_count": 19,
     "metadata": {},
     "output_type": "execute_result"
    }
   ],
   "source": [
    "words = \"here is a sentence\".split()\n",
    "\n",
    "# Prints each word and its length in that phrase\n",
    "[[word, len(word)] for word in words]"
   ]
  },
  {
   "cell_type": "markdown",
   "metadata": {},
   "source": [
    "### Functions as first class objects\n",
    "In Python, it is not only data types that are treated as objects. Both functions and classes are what are known as **first class objects**, allowing them to be manipulated in the same ways as built-in data types. By definition, first class objects are the following:\n",
    "- Created at runtime\n",
    "- Assigned as a variable or in a data structure\n",
    "- Passed an argument to a function\n",
    "- Returned as the result of a function\n",
    "\n",
    "In Python, the term **first class object** is a bit of a misnomer, since it implies some sort of hierarchy, whereas all Python objects are essentially first class. As an example, here is a simple function:"
   ]
  },
  {
   "cell_type": "code",
   "execution_count": 20,
   "metadata": {},
   "outputs": [
    {
     "name": "stdout",
     "output_type": "stream",
     "text": [
      "Bonjour le monde\n"
     ]
    }
   ],
   "source": [
    "def greeting(language):\n",
    "    if language == \"eng\":\n",
    "        return \"Hello World\"\n",
    "    if language == \"fr\":\n",
    "        return \"Bonjour le monde\"\n",
    "    else:\n",
    "        return \"Language not supported\"\n",
    "    \n",
    "l = [greeting(\"eng\"), greeting(\"fr\"), greeting(\"ger\")]\n",
    "\n",
    "print(l[1])"
   ]
  },
  {
   "cell_type": "markdown",
   "metadata": {},
   "source": [
    "Functions can also be used as arguments for other functions. For example, we can define the following function:"
   ]
  },
  {
   "cell_type": "code",
   "execution_count": 21,
   "metadata": {},
   "outputs": [
    {
     "data": {
      "text/plain": [
       "'Hello World'"
      ]
     },
     "execution_count": 21,
     "metadata": {},
     "output_type": "execute_result"
    }
   ],
   "source": [
    "def callf(f):\n",
    "    lang = \"eng\"\n",
    "    return f(lang)\n",
    "\n",
    "callf(greeting)"
   ]
  },
  {
   "cell_type": "markdown",
   "metadata": {},
   "source": [
    "Here, `callf()` takes a function as an argument, sets a language variable to `'eng'`, and then calls the function with the language variable as its argument. We could see how this would be useful if, for example, we wanted to produce a program that returns specific sentences in a variety of languages, perhaps for some sort of natural language application. Here, we have a central place to set the language. As well as our greeting function, we could create similar functions that return different sentences. By having one point where we set the language, the rest of the program logic does not have to wory about this. If we want to change the language, we simply change the language variable and we keep everything else the same.\n",
    "### Higher order functions\n",
    "Functions that take other functions as arguments, or that return functions, are callled **higher order functions**. Python 3 contains two built-in higher order functions-`filter()` and `map()`. NOte that in earlier versions of Python, these functions returned lists; in Python 3 they return an iterator, making them much more efficient. The `map()` function provides an easy way to transform each item into an iterable object. For example, here is an efficient compact way to perform an operation on a sequence. Note the use of the `lambda` anonymous function:"
   ]
  },
  {
   "cell_type": "code",
   "execution_count": 22,
   "metadata": {},
   "outputs": [
    {
     "name": "stdout",
     "output_type": "stream",
     "text": [
      "2\n",
      "4\n",
      "6\n",
      "8\n"
     ]
    }
   ],
   "source": [
    "pos_ints = [1, 2, 3, 4]\n",
    "# For each item in the list, uses the lambda function to multiply each integer in pos_ints by 2. After this\n",
    "# is done, we print the item.\n",
    "for item in map(lambda n: n * 2, pos_ints): print(item)"
   ]
  },
  {
   "cell_type": "markdown",
   "metadata": {},
   "source": [
    "Similarly, we can use the filter built-in function to filter items in a list:"
   ]
  },
  {
   "cell_type": "code",
   "execution_count": 23,
   "metadata": {},
   "outputs": [
    {
     "name": "stdout",
     "output_type": "stream",
     "text": [
      "1\n",
      "2\n",
      "3\n"
     ]
    }
   ],
   "source": [
    "# Similar function, except we print the numbers in the list if the numbers are less than 4.\n",
    "# If we used map, this would print the boolean values for the lambda statement\n",
    "# Using filter, we print each number in the list less than 4\n",
    "for item in filter(lambda n: n < 4, pos_ints): print(item)"
   ]
  },
  {
   "cell_type": "markdown",
   "metadata": {},
   "source": [
    "Note that both map and filter perform the same function similar to what can be achieved by list comprehensions. There does not seem to be a great deal of difference in the performance characteristics, apart from a slight performance advantage when using the in-built functions map and filter without the `lambda` operator, compared to list comprehensions. Despite this, most style guides recommend the use of list comprehensions over built-in functions, possibly because they tend to be easier to read.\n",
    "\n",
    "Creating our own higher order functions is one of the hallmarks of functional programming style. A practical example of how higher order functions can be useful is demonstrated by the following. Here, we are passing the `len` function as the key to sort the function. This way, we can sort a list or words by length:"
   ]
  },
  {
   "cell_type": "code",
   "execution_count": 24,
   "metadata": {},
   "outputs": [
    {
     "data": {
      "text/plain": [
       "['in', 'The', 'word', 'this', 'longest', 'sentence']"
      ]
     },
     "execution_count": 24,
     "metadata": {},
     "output_type": "execute_result"
    }
   ],
   "source": [
    "words = str.split(\"The longest word in this sentence\")\n",
    "# Will return a list of sorted words in the sentence from shortest to longest\n",
    "sorted(words, key = len)"
   ]
  },
  {
   "cell_type": "code",
   "execution_count": 25,
   "metadata": {},
   "outputs": [
    {
     "data": {
      "text/plain": [
       "['A', 'a', 'b', 'C', 'c']"
      ]
     },
     "execution_count": 25,
     "metadata": {},
     "output_type": "execute_result"
    }
   ],
   "source": [
    "sl = [\"A\", \"b\", \"a\", \"C\", \"c\"]\n",
    "sl.sort(key = str.lower)\n",
    "sl"
   ]
  },
  {
   "cell_type": "code",
   "execution_count": 26,
   "metadata": {},
   "outputs": [
    {
     "data": {
      "text/plain": [
       "['A', 'C', 'a', 'b', 'c']"
      ]
     },
     "execution_count": 26,
     "metadata": {},
     "output_type": "execute_result"
    }
   ],
   "source": [
    "sl.sort()\n",
    "sl"
   ]
  },
  {
   "cell_type": "markdown",
   "metadata": {},
   "source": [
    "Note the difference between the `list.sort()` method and the sorted built-in function. The `list.sort()` method, a method of the list object, sorts the existing instance of a list without copying it. This method changes the target object and returns `None`. It is an important convention in Python that functions or methods that change the object return `None`, to make it clear that no new object was created and that the object itself was changed.\n",
    "\n",
    "On the other hand, the sorted built-in function returns a new list. It actually accepts any iterable object as an argument, but it will always return a list. Both *list sort* and *sorted* take two optional keyword arguments as key.\n",
    "\n",
    "A simple way to sort more complex structures is to use the index of the element to sort using the lambda operator:"
   ]
  },
  {
   "cell_type": "code",
   "execution_count": 27,
   "metadata": {},
   "outputs": [
    {
     "name": "stdout",
     "output_type": "stream",
     "text": [
      "[['flour', 1.9, 5], ['rice', 2.4, 8], ['corn', 4.7, 6]]\n"
     ]
    }
   ],
   "source": [
    "items = [[\"rice\", 2.4, 8], [\"flour\", 1.9, 5], [\"corn\", 4.7, 6]]\n",
    "# This line of code uses the lambda function to choose which characteristic to sort by. \n",
    "# In this case, that characteristic would be the price.\n",
    "items.sort(key = lambda item: item[1])\n",
    "print(items)"
   ]
  },
  {
   "cell_type": "markdown",
   "metadata": {},
   "source": [
    "### Recursive functions\n",
    "Recursion is one of the most fundamental concepts of computer science. It is called *recursion* when a function takes one or more calls to itself during execution. Loop iteration and recursion are different in the sense that *loops* execute statements repeatedly through a Boolean condition or through a series of elements, whereas recursion repeatedly calls a function. In Python, we can implement a recursive function simply by calling it within its own function body. To stop a recursive function turning into an infinite loop, we need at least one argument that tests for a terminating case to end the recursion. This is sometimes called the base case. It should be pointed out that recursion is different from iteration. Although both involve repetition, iteration loops throguh a sequence of operations, whereass recursion repeatedly calls a function. Technically, recursion is a special case of iteration known as tail iteration, and it ius usually always possible to convert an iterative function to a recursive function and vice versa. The interesting thing about recursive functions is that they are able to describe an infinite object within a finite statement.\n",
    "\n",
    "The following code should demonstrate the difference between recursion and iteration. Both these functions simply print out numbers between low and high, the first one uses iteration and the second using recursion:"
   ]
  },
  {
   "cell_type": "code",
   "execution_count": 28,
   "metadata": {},
   "outputs": [],
   "source": [
    "def iterTest(low, high):\n",
    "    while low <= high:\n",
    "        print(low)\n",
    "        low += 1\n",
    "    \n",
    "def recurTest(low, high):\n",
    "    if low <= high:\n",
    "        print(low)\n",
    "        recurTest(low + 1, high)"
   ]
  },
  {
   "cell_type": "code",
   "execution_count": 29,
   "metadata": {},
   "outputs": [
    {
     "name": "stdout",
     "output_type": "stream",
     "text": [
      "1\n",
      "2\n",
      "3\n",
      "4\n",
      "5\n"
     ]
    }
   ],
   "source": [
    "iterTest(1, 5)"
   ]
  },
  {
   "cell_type": "code",
   "execution_count": 30,
   "metadata": {},
   "outputs": [
    {
     "name": "stdout",
     "output_type": "stream",
     "text": [
      "1\n",
      "2\n",
      "3\n",
      "4\n",
      "5\n"
     ]
    }
   ],
   "source": [
    "recurTest(1, 5)"
   ]
  },
  {
   "cell_type": "markdown",
   "metadata": {},
   "source": [
    "Notice that for `iterTest` we use a while statement to test for the condition, then call the print method, and finally increment the low value. The recursion example tests for the conditiion, prints, then calls itself, incrementing the low variable in its argument. In general, iteration is more efficient; however, recursive functions are often easier to understand and write. Recursive functions are also useful for manipulating recursive data structures such as linked lists and trees, as we will see.\n",
    "### Generators and co-routines\n",
    "We can create functions that do not just return one result but rather an entire sequence of results, by using the yield statement. These functions are called **generators**. Python contains generator functions, which are an easy way to create iterators and are especially useful as a replacement for unworkably long lists. A generator yields items rather than builds lists. For example, the following code shows we might choose to use a generator as opposed to creating a list:"
   ]
  },
  {
   "cell_type": "code",
   "execution_count": 31,
   "metadata": {},
   "outputs": [
    {
     "name": "stdout",
     "output_type": "stream",
     "text": [
      "The time to sum an iterator: 0.094854\n",
      "The time to build and sum a list: 0.053584\n"
     ]
    }
   ],
   "source": [
    "# Compares the running time of a list compared to a generator\n",
    "import time\n",
    "# Generator function creates an iterator of odd numbers between n and m\n",
    "def oddGen(n, m):\n",
    "    while n < m:\n",
    "        yield n\n",
    "        n += 2\n",
    "        \n",
    "# Builds a list of odd numbers between n and m\n",
    "def oddLst(n, m):\n",
    "    lst = []\n",
    "    while n < m:\n",
    "        lst.append(n)\n",
    "        n += 2\n",
    "        \n",
    "    return lst\n",
    "\n",
    "# The time it takes to perform sum on an iterator\n",
    "t1 = time.time()\n",
    "sum(oddGen(1, 1000000))\n",
    "print(\"The time to sum an iterator: %f\" % (time.time() - t1))\n",
    "# The time it takes to build and sum a list\n",
    "t1 = time.time()\n",
    "sum(oddLst(1, 1000000))\n",
    "print(\"The time to build and sum a list: %f\" % (time.time() - t1))"
   ]
  },
  {
   "cell_type": "markdown",
   "metadata": {},
   "source": [
    " As we can see, building a list to do this calculation takes significantly longer. The performance improvement as a result of using generators is because the values are generated on demand, rather than saved as a list in memory. A calculation can begin before all the elements have been generated and elements are generated only when they are needed.\n",
    "\n",
    "In the preceding example, the sum method loads each number into memory when it is needed for the calculation. This is achieved by the generator object repeatedly calling the `__next__()` special method. Generators never return a value other than `None`.\n",
    "\n",
    "Typically, generator objects are used in for loops. For example, we can make use of the `oddLst` generator function created in the preceding code to print out odd integers between 1 and 10:\n",
    "\n",
    "```python\n",
    "for i in oddLst(1, 10): print(i)\n",
    "```\n",
    "\n",
    "We can create a **generator expression**, which apart from replacing square brackets with parentheses, uses the same syntax and carries out the same operations as list comprehensions. Generator expressions, however, do not create a list; they create a **generator object**. This object does not create the data, but rather creates that data on demand. This means that generator objects do not support sequence methods such as `append()` and `insert()`. You can, however, change a generator into a list using the `list()` function:"
   ]
  },
  {
   "cell_type": "code",
   "execution_count": 32,
   "metadata": {},
   "outputs": [
    {
     "name": "stdout",
     "output_type": "stream",
     "text": [
      "<generator object <genexpr> at 0x7fdacc63d570>\n",
      "10\n",
      "100\n",
      "1000\n",
      "10000\n"
     ]
    }
   ],
   "source": [
    "lst1 = [1, 2, 3, 4]\n",
    "gen1 = (10 ** i for i in lst1)\n",
    "\n",
    "# Should gives us the first 4 orders of magnitude after 10 ** 0 in its generator representation\n",
    "print(gen1)\n",
    "\n",
    "for x in gen1:\n",
    "    print(x)"
   ]
  },
  {
   "cell_type": "markdown",
   "metadata": {},
   "source": [
    "### Classes and object programming\n",
    "Classes are a way to create new kinds of objects and they are central to object-oriented programming. A class defines a set of attributes that are shared across instances of that class. Typically, classes are sets of functions, variables, and properties.\n",
    "\n",
    "The object-oriented paradigm is compelling because it gives us a concrete way to think about and represent the core functionality of our programs. By organizing our programs around objects and data rather than actions and logic, we have a robust and flexible way to build complex applications. The actions and logic are still present, of course, but by embodying them in objects, we have a way to encapsulate functionality, allowing objects to change in very specific ways. This makes our code less error-prone, easier to extend and maintain, and able to model real-world objects.\n",
    "\n",
    "Classes are created in Python using the class statement. This defines a set of shared attributes associated with a collection of class instances. A class usually consists of a number of methods, class variables, and computed properties. It is important to understand that defining a class does not, by itself, create any instances of that class. To create an instances, a variable must be assigned to a class. The class body consists of a series of statements that execute during the class definition. The functions defined inside a class are called instance methods. They apply some operations to the class instance by passing an instance of that class as the first argument. This argument is called self by convention, but it can be any legal identifier. Here is a simple example:"
   ]
  },
  {
   "cell_type": "code",
   "execution_count": 33,
   "metadata": {},
   "outputs": [],
   "source": [
    "class Employee(object):\n",
    "    numEmployee = 0\n",
    "    def __init__(self, name, rate):\n",
    "        self.owed = 0\n",
    "        self.name = name\n",
    "        self.rate = rate\n",
    "        Employee.numEmployee += 1\n",
    "        \n",
    "    def __del__(self):\n",
    "        Employee.numEmployee -= 1\n",
    "    \n",
    "    def hours(self, numHours):\n",
    "        self.owed += numHours * self.rate\n",
    "        \n",
    "    def pay(self):\n",
    "        self.owed = 0\n",
    "        return(\"Paid %s \" % self.name)"
   ]
  },
  {
   "cell_type": "markdown",
   "metadata": {},
   "source": [
    "Class variables, such as `numEmployee`, share values among all the instances of the class. In this example, `numEmployee` is used to count the number of employee instances. Note that the `Employee` class implements the `__init__` and `__del__` special methods. We can create instances of the `Employee` objects, run methods, and return class and isntance variables by doing the following:"
   ]
  },
  {
   "cell_type": "code",
   "execution_count": 34,
   "metadata": {},
   "outputs": [
    {
     "data": {
      "text/plain": [
       "2"
      ]
     },
     "execution_count": 34,
     "metadata": {},
     "output_type": "execute_result"
    }
   ],
   "source": [
    "emp1 = Employee(\"Jill\", 18.50)\n",
    "emp2 = Employee(\"Jack\", 15.50)\n",
    "\n",
    "Employee.numEmployee"
   ]
  },
  {
   "cell_type": "code",
   "execution_count": 35,
   "metadata": {},
   "outputs": [
    {
     "name": "stdout",
     "output_type": "stream",
     "text": [
      "None\n",
      "370.0\n",
      "Paid Jill \n"
     ]
    }
   ],
   "source": [
    "print(emp1.hours(20))\n",
    "print(emp1.owed)\n",
    "print(emp1.pay())"
   ]
  },
  {
   "cell_type": "markdown",
   "metadata": {},
   "source": [
    "### Special methods\n",
    "We can use the `dir(object)` function to get a list of attributes of a praticular object. The methods that begin and end with two underscores are called **special methods**. Apart from the following exception, special methods are generally called by the Python interpreter rather than the programmer; for example, when we use the `+` operator, we are acutally invoking a `to_add_()` call. For example, rather than using `my_object.__len__()`, we can use `len(my_object)`; using `len()` on a string object is actually much faster, because it returns the value representing the object's size in memory, rather than making a call to the object's `__len__` method.\n",
    "\n",
    "The only special method we actually call in our programs, as common practice, is the `__init__()` method, to invoke the initializer of the superclass in our own class definitions. It is strongly advised not to use the double underscore syntax for you own objects because of the potential current or future conflicts with Python's own special methods.\n",
    "\n",
    "We may, however, want to implement special methods in custom objects, to give them some of the behavior of built-in types. In the following code, we create a class that implements the `__repr__` method. This method creates a string representation of our object that is useful for inspection purposes:"
   ]
  },
  {
   "cell_type": "code",
   "execution_count": 36,
   "metadata": {},
   "outputs": [],
   "source": [
    "class my_class():\n",
    "    def __init__(self, greet):\n",
    "        self.greet = greet\n",
    "        \n",
    "    def __repr__(self):\n",
    "        return(\"A custom object (%r) \" % (self.greet))"
   ]
  },
  {
   "cell_type": "markdown",
   "metadata": {},
   "source": [
    "When we create an isntance of this object and inspect it, we can see we get our customized string representation. Notice the use of the `%r` format placeholder to return the standard representation of the object. This is useful and best practice because, in this case, it shows us that the `greet` object is a string indicated by the quotation marks:"
   ]
  },
  {
   "cell_type": "code",
   "execution_count": 37,
   "metadata": {},
   "outputs": [
    {
     "data": {
      "text/plain": [
       "A custom object ('giday') "
      ]
     },
     "execution_count": 37,
     "metadata": {},
     "output_type": "execute_result"
    }
   ],
   "source": [
    "a = my_class(\"giday\")\n",
    "a"
   ]
  },
  {
   "cell_type": "markdown",
   "metadata": {},
   "source": [
    "### Inheritance\n",
    "Inheritance is one of the most powerful features of object-oriented programming languages. It allows us to inherit the functionality from other classes. It is possible to create a new class that modifies the behavior of an existing class through inheritance. Inheritance means that if an object of one class is created by inheriting another classs, then the object would have all the functionality, methods, and variables of both the classes; that is, the parent class and new class. The existing class from which we inherit the functionalities is called the parent/base class, and the new class is called the derived/child class.\n",
    "\n",
    "Inheritance can be explained with a very simple example-we created an `employee` class with attributes such as name of employee and rate at which he is going to be paid hourly. We can now create a new `specialEmployee` class inheriting all the attributes from the `employee` class.\n",
    "\n",
    "Inheritance in Python is done by passing the inherited class as an argument in the class definition. It is often used to modify the behavior of existing methods.\n",
    "\n",
    "An instance of the `specialEmployee` class is identical to an `Employee` instance, except for the changed `hours()` method. For example, in the following code we create a new `specialEmployee` class that inherits all the functionalities of the `Employee` class, and also change the `hours()` method:"
   ]
  },
  {
   "cell_type": "code",
   "execution_count": 38,
   "metadata": {},
   "outputs": [],
   "source": [
    "class specialEmployee(Employee):\n",
    "    \n",
    "    def __init__(self, name, rate, bonus):\n",
    "        Employee.__init__(self, name, rate)\n",
    "        self.bonus = bonus\n",
    "    \n",
    "    def hours(self, numHours):\n",
    "        self.owed += numHours * self.rate * 2\n",
    "        return(\".2f% hours worked \" % numHours)\n",
    "    "
   ]
  },
  {
   "cell_type": "markdown",
   "metadata": {},
   "source": [
    "Notice that the methods of the base class are not automatically invoked and it is necessary for the derived class to call them. We can test for the class membership using the built-in `isinstance(obj1, obj2)` function. This returns `True` if `obj1` belongs to the class of `obj2`. Let's consider the following example to understand this, where `obj1` and `obj2` are the objects of the `Employee` and `specialEmployee` classes, respectively:"
   ]
  },
  {
   "cell_type": "code",
   "execution_count": 39,
   "metadata": {},
   "outputs": [
    {
     "name": "stdout",
     "output_type": "stream",
     "text": [
      "True\n",
      "False\n",
      "False\n",
      "True\n"
     ]
    }
   ],
   "source": [
    "# True\n",
    "print(issubclass(specialEmployee, Employee))\n",
    "# False\n",
    "print(issubclass(Employee, specialEmployee))\n",
    "\n",
    "d = specialEmployee('packt', 20, 100)\n",
    "b = Employee('packt', 20)\n",
    "\n",
    "# False\n",
    "print(isinstance(b, specialEmployee))\n",
    "# True\n",
    "print(isinstance(b, Employee))"
   ]
  },
  {
   "cell_type": "markdown",
   "metadata": {},
   "source": [
    "Generally, all the methods operate on the instance of a class defined within a class. However, it is not a requirement. There are two types of methods-**static methods** and **class methods**. A static method is quite similar to a class method, which is mainly bound to the class, and not bound with the the object of the class. If is defined witin a class and does not require an instance of a class to execute. It does not perform any operations on the instance and it is defined using the `@staticmethod` class decorator. Static methods cannot access the attributes of an instance, so their most common usage is as a conveinence to group utility function together.\n",
    "\n",
    "A class method operates on the class itself and does not work with the instances. A class method works in the same way that class variables are associated with the classes rather than instances of that class. Class methods are defined using the `@classmethod` decorator and are distinguished from instance methods in the class. It is passed as the first argument, and this is named `cls` by convention. The `exponenialB` class inherits from the `exponentialA` class and changes the base class variable to `4`. We can also run the parent class's `exp()` method as follows:"
   ]
  },
  {
   "cell_type": "code",
   "execution_count": 40,
   "metadata": {},
   "outputs": [
    {
     "name": "stdout",
     "output_type": "stream",
     "text": [
      "The value: 3 to the power 3 is  27\n",
      "The sum is:  25\n",
      "64\n"
     ]
    }
   ],
   "source": [
    "class exponentialA(object):\n",
    "    base = 3\n",
    "    \n",
    "    @classmethod\n",
    "    def exp(cls, x):\n",
    "        return(cls.base ** x)\n",
    "    \n",
    "    @staticmethod\n",
    "    def addition(x, y):\n",
    "        return(x + y)\n",
    "    \n",
    "class exponentialB(exponentialA):\n",
    "    base = 4\n",
    "    \n",
    "a = exponentialA()\n",
    "b = a.exp(3)\n",
    "\n",
    "print(\"The value: 3 to the power 3 is \", b)\n",
    "print(\"The sum is: \", exponentialA.addition(15, 10))\n",
    "print(exponentialB.exp(3))"
   ]
  },
  {
   "cell_type": "markdown",
   "metadata": {},
   "source": [
    "The difference between a static method and a class emthod is that a static method doesn't know anything about the class, it only deals with the parameters, whereas the class method works only with the class, and its parameter is always the class itself.\n",
    "\n",
    "There are several reasons why class methods may be useful. For example, because a subclass inherits all the same features of its parent, there is the potential for it to break inherited methods. Using class methods is a way to define exactly what methods are run.\n",
    "\n",
    "### Data encapsulation and properties\n",
    "Unless otherwise specified, all attributes and methods are accessible without restriction. This also means that everything defined in a base class is accessible from a derived class. This may cause problems when we are building object-oriented applications where we may want to hide the internal implementation of an object. This can lead to namespace conflicts between objects defined in derived classes with the base class. To prevent this, the methods we define private attributes with have a double underscore, such as `__privateMethod()`. These methods names are automatically changed to `__Classname_privateMethod()` to prevent name conflicts with methods defined in base classes. Be aware that this does not strictly hide private attributes, rather it just provides a mechanism for preventing name conflicts.\n",
    "\n",
    "It is recommend to use private attributes when using a class **property** to define mutable attributes. A property is a kind of attribute that rather than returning a stored value computes its value when called. For example, we could redefine the `exp()` property with the following:\n",
    "\n",
    "```python\n",
    "class Bexp(Aexp):\n",
    "    base = 3\n",
    "    \n",
    "    def exp(self):\n",
    "        return(x ** cls.base)\n",
    "```"
   ]
  }
 ],
 "metadata": {
  "kernelspec": {
   "display_name": "Python 3",
   "language": "python",
   "name": "python3"
  },
  "language_info": {
   "codemirror_mode": {
    "name": "ipython",
    "version": 3
   },
   "file_extension": ".py",
   "mimetype": "text/x-python",
   "name": "python",
   "nbconvert_exporter": "python",
   "pygments_lexer": "ipython3",
   "version": "3.6.9"
  }
 },
 "nbformat": 4,
 "nbformat_minor": 4
}
