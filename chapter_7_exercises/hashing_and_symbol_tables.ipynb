{
 "cells": [
  {
   "cell_type": "markdown",
   "metadata": {},
   "source": [
    "# Hashing and Symbol Tables\n",
    "### Hashing\n",
    "**Hashing** is a concept in which, when we give data of arbitrary size to function, we get a small simplified value. This function is called a **hash function**. Hashing uses a hash function that maps the given data to another range of data, so that a new range of data can be used as an index in the hash table. We will use hashing to convert strings to integers. We are using strings to convert into integers, however, it can be any other data type which can be converted into integers. Let's look at an exapmple to better understand the concept. We want to hash the exxpression `hello world`, that is, we want to get a numeric value that we could say *represents* the string.\n",
    "\n",
    "We obtain the unique ordinal value of any character by using the `ord()` function. For example, the `ord('f')` function gives 102. Further, to get the hash of the whole string, we could just sum the ordinal numbers of each character in the string."
   ]
  },
  {
   "cell_type": "code",
   "execution_count": 1,
   "metadata": {},
   "outputs": [
    {
     "data": {
      "text/plain": [
       "1116"
      ]
     },
     "execution_count": 1,
     "metadata": {},
     "output_type": "execute_result"
    }
   ],
   "source": [
    "sum(map(ord, \"hello world\"))"
   ]
  },
  {
   "cell_type": "markdown",
   "metadata": {},
   "source": [
    "The obtained numberic value, 1116, for the whole `hello world` string is called the **hash of the string**. COnsider the following diagram to see the ordinal value of each character in the string that results in the hash value `1116`.\n",
    "\n",
    "| Character | Value |\n",
    "| :-------- | :---- |\n",
    "| `h` | 104 |\n",
    "| `e` | 101 |\n",
    "| `l` | 108 |\n",
    "| `l` | 108 |\n",
    "| `o` | 111 |\n",
    "| ` ` | 32 |\n",
    "| `w` | 119 |\n",
    "| `o` | 111 |\n",
    "| `r` | 114 |\n",
    "| `l` | 108 |\n",
    "| `d` | 100 |\n",
    "| sum: | 1116 |\n",
    "\n",
    "Changing the order of the phrase would yield the same hash value, along with replacing the `h` and `w` with a `g` and an `x`, respectively.\n",
    "### Perfect hashing function\n",
    "A **perfect hashing function** is the one by which we get a unique hash value for a given string. In practice, most of the hashing functions are imperfect and face collisions. This means that a hash function gives the same hash value to more than one string; i.e. it is not a one-to-one function between strings and hash values. Normally, hashing functions need to be very fast, so trying to create a function that gives us a unique hash value for each string is normally not possible. Hence, we accept this fact and we know that we may get some collisions, that is, two or more strings may have the same hash value. Therefore, we try to find a strategy to resolve the collisions rather than trying to find a perfect hash function.\n",
    "\n",
    "To avoid the collisions of the previous example, we could add a multiplier that the ordinal value of each character is multiplied by a value that continuously increasesin the string as we progress in the string. Next, the hash value of the string is obtained by adding the multiplied ordinal value of each character.\n",
    "\n",
    "The implementation of this concept is shown here:"
   ]
  },
  {
   "cell_type": "code",
   "execution_count": 2,
   "metadata": {},
   "outputs": [
    {
     "name": "stdout",
     "output_type": "stream",
     "text": [
      "world hello: 6616\n",
      "gello xorld: 6742\n",
      "hello world: 6736\n"
     ]
    }
   ],
   "source": [
    "def myhash(s):\n",
    "    mult = 1\n",
    "    hv = 0\n",
    "    for ch in s:\n",
    "        hv += mult * ord(ch)\n",
    "        mult += 1\n",
    "    return hv\n",
    "\n",
    "for item in {'hello world', 'world hello', 'gello xorld'}:\n",
    "    print(\"{}: {}\".format(item, myhash(item)))"
   ]
  },
  {
   "cell_type": "code",
   "execution_count": 3,
   "metadata": {},
   "outputs": [
    {
     "name": "stdout",
     "output_type": "stream",
     "text": [
      "ga: 297\n",
      "ad: 297\n"
     ]
    }
   ],
   "source": [
    "# Still is not a perfect hash:\n",
    "strs = {'ad', 'ga'}\n",
    "\n",
    "for item in strs:\n",
    "    print(\"{}: {}\".format(item, myhash(item)))"
   ]
  },
  {
   "cell_type": "markdown",
   "metadata": {},
   "source": [
    "### Hash tables\n",
    "A **hash table** is a data structure where elements are accessed by a keyword rather than an index number, unlike in **lists** and **arrays**. In this data structure, the data items are stored in key/value pairs similar to dictionaries. A hash table uses a hashing function in order to find an index position where an element should be stored and retrieved. This gives us fast lookups since we are using an index number that corresponds to the hash value of the key.\n",
    "\n",
    "Each position in the hash table data structure is often called a **slot** or **bucket** and can store an element. So, each data item in the form of `(key, value)` pairs would be stored in the hash table at a position that is decided by the hash value of the data. \n",
    "\n",
    "To implement the hash table, we start by creating a class to hold hash table items. These need to have a key and a value since our hash table is a `{key: value}` store:"
   ]
  },
  {
   "cell_type": "markdown",
   "metadata": {},
   "source": [
    "```python\n",
    "class HashItem:\n",
    "    def __init__(self, key, value):\n",
    "        self.key = key\n",
    "        self.value = value\n",
    "```"
   ]
  },
  {
   "cell_type": "markdown",
   "metadata": {},
   "source": [
    "This gives us a very simple way to store items. Next, we start working on the hash table class itself. As usual, we start with a constructor:"
   ]
  },
  {
   "cell_type": "markdown",
   "metadata": {},
   "source": [
    "```python\n",
    "class HashTable:\n",
    "    def __init__(self):\n",
    "        self.size = 256\n",
    "        self.slots = [None for i in range(self.size)]\n",
    "        self.count = 0\n",
    "```"
   ]
  },
  {
   "cell_type": "markdown",
   "metadata": {},
   "source": [
    "The hash table uses a standard Python list to store its elements. Let's set the size of the hash table to 256 elements to start with. Later, we will look  at strategies for how to grow the hash table as we begin filling it up. We will now initialize a list containing 256 elements in the code. These are positions where the elements are to be stored-the slots or buckets. So, we have 256 slots to store elements in the hash table. Finally, we add a counter for the number of the acutal hash table elements we have:\n",
    "\n",
    "It is important to note the difference between the size and count of a table. The size of a table refers to the number of slots in the table. he count of the table refers to the number of slots that are filled, meaning the number of actual `{key: value}` pairs that have been added to the table.\n",
    "\n",
    "Now, we have to decide on adding our hashing function to the table. We can use the same hash function that returns the sum of ordinal values for each character in the strings with a slight change. Since our hash table has 256 slots, that means we need a hashing function that returns a value in the range of 1 to 256. A good way of doing it is to return the remainder of dividing the hash value by the size of the table since the remainder would surely be an integer value between 0 and 255.\n",
    "\n",
    "As the hashing function is only meant to be used internally by the class, we put an underscore at the beginning of the name to indicate this. This is a normal Python convention for indicating that something is meant for internal use. Here is the implementation of the `hash` function:\n",
    "```python\n",
    "    def _hash(self, key):\n",
    "        mult = 1\n",
    "        hv = 0\n",
    "        for ch in key:\n",
    "            hv += mult * ord(ch)\n",
    "            mult += 1\n",
    "        return hv % self.size\n",
    "```\n",
    "For the time being, we are going to assume that keys are strings. We shall discuss how one can use non-string keys later. For now, the `_hash()` function is going to generate the hash value for a string.\n",
    "### Storing elements in a hash table\n",
    "To store the elements in the hash table, we add them to the table with the `put()` function and retrieve them with the `get()` function. First, we will look at the implementation of the `put()` function. We start by embedding the key and the value into the `HashItem` class and then compute the hash value of the key.\n",
    "\n",
    "Here is the implementation of the `put` function:\n",
    "```python\n",
    "    def put(self, key, value):\n",
    "        item = HashItem(key, value)\n",
    "        h = self._has(key)\n",
    "```\n",
    "Once we know the hash value of the key, it will be used to find the position where the element should be stored in the hash table. Hence, we need to find an empty slot. We start at the slot that corresponds to the hash value of the key. If that slot is empty, we insert our item there.\n",
    "\n",
    "However, if the slot is not empty and the key of the item is not the same as our current key, then we have a collision. It means that we have a hash value for the item that is the same as some previously stored item in the table. This is where we need to figure out a way to handle a conflict.\n",
    "\n",
    "One way of resolving this kind of collision is to find another free slot from the position of the collision; this collision resolution process is called **open addressing**. We can do this by linearly looking for the next available slot by adding one to the previous hash value where we get the collision. We can resolve this conflict by adding one to the sum of the ordinal values of each character in the key string, which is further divided by the size of the hash table to obtain the hash value. This systematic way of visiting each slot is a linear way of resolving collisions and is called **linear probing**.\n",
    "\n",
    "Let's consider the following code:\n",
    "```python\n",
    "    while self.slots[h] is not None:\n",
    "        if self.slots[h].key is key:\n",
    "            break\n",
    "        h = (h + 1) % self.size\n",
    "```\n",
    "The preceding code is to check whether the slot is empty, then get the new hash value using the method described. If the slot is empty, to store the new element, then we increase the count by one. Finally, we insert the item into the list at the required position:\n",
    "```python\n",
    "    if self.slots[h] is None:\n",
    "        self.count += 1\n",
    "    self.slots[h] = item\n",
    "```\n",
    "### Retrieving elements from the hash table\n",
    "To retrieve the elements from the hash table, the value stored corresponding to the key would be returned. Here, we will discuss the implementation of the retrieval method-the `get()` method. This method would return the value stored in the table corresponding to the given key.\n",
    "\n",
    "First of all, we compute the hash of the given key corresponding to the value that is to be retrieved. Once we have the hash value of the key, we look up the hash table at the position of the hash value. If the key item is matched with the stored key value at that location, the corresponding `value` is retrieved. If that does not match, then we add 1 to the sum of the ordinal values of all the characters in the string, similar to what we did at the time of storing the data, and we look at the newly obtained hash value. We keep looking until we get our key element or we check all the slots in the hash table.\n",
    "\n",
    "To implement this retrieval method that is, the `get()` method, we start by calculating the hash of the key. Next, we look up at the computed hash value in the table. If there is a match, we return the corresponding stored value. Otherwise, we keep looking at the new hash value location computed as described. Here is the implementation of the `get()` method:\n",
    "```python\n",
    "    def get(self, key):\n",
    "        h = self._hash(key)     # computer hash for the given key\n",
    "        while self.slots[h] is not None:\n",
    "            if self.slots[h].key is key:\n",
    "                return self.slots[h].value\n",
    "            h = (h + 1) % self.size\n",
    "        return None\n",
    "```\n",
    "Finally, we return `None` if the key was not found in the table. Another good alternative may be to raise an exception in the case the key does not exist in the table.\n",
    "### Testing the hash table\n",
    "To test our hash table, we create `HashTable` and store a few elements in it, then try to retrieve them. We will also try to `get()` a key that does not exist. We also sue the two strings, `ad` and `ga`, which had the collision and returned the same hash value by our hashing function. To properly evaluate the work of the hash table, we throw this collision as well, just to see that the collision is properly resolved."
   ]
  },
  {
   "cell_type": "code",
   "execution_count": 1,
   "metadata": {},
   "outputs": [],
   "source": [
    "class HashItem:\n",
    "    def __init__(self, key, value):\n",
    "        self.key = key\n",
    "        self.value = value\n",
    "        \n",
    "    \n",
    "class HashTable:\n",
    "    def __init__(self):\n",
    "        self.size = 256\n",
    "        self.slots = [None for i in range(self.size)]\n",
    "        self.count = 0\n",
    "        \n",
    "    def _hash(self, key):\n",
    "        mult = 1\n",
    "        hv = 0\n",
    "        for ch in key:\n",
    "            hv += mult * ord(ch)\n",
    "            mult += 1\n",
    "        return hv % self.size\n",
    "    \n",
    "    def put(self, key, value):\n",
    "        item = HashItem(key, value)\n",
    "        h = self._hash(key)\n",
    "        \n",
    "        while self.slots[h] is not None:\n",
    "            if self.slots[h].key is key:\n",
    "                break\n",
    "            h = (h + 1) % self.size\n",
    "        if self.slots[h] is None:\n",
    "            self.count += 1\n",
    "        self.slots[h] = item\n",
    "    \n",
    "    def get(self, key):\n",
    "        h = self._hash(key)\n",
    "        while self.slots[h] is not None:\n",
    "            if self.slots[h].key is key:\n",
    "                return self.slots[h].value\n",
    "            h = (h + 1) % self.size\n",
    "        return None\n",
    "    \n",
    "    def __setitem__(self, key, value):\n",
    "        self.put(key, value)\n",
    "    \n",
    "    def __getitem(self, key):\n",
    "        return self.get(key)"
   ]
  },
  {
   "cell_type": "code",
   "execution_count": 3,
   "metadata": {},
   "outputs": [
    {
     "name": "stdout",
     "output_type": "stream",
     "text": [
      "eggs\n",
      "ham\n",
      "spam\n",
      "None\n",
      "do not\n",
      "collide\n"
     ]
    }
   ],
   "source": [
    "ht = HashTable()\n",
    "ht.put(\"good\", \"eggs\")\n",
    "ht.put(\"better\", \"ham\")\n",
    "ht.put(\"best\", \"spam\")\n",
    "ht.put(\"ad\", \"do not\")\n",
    "ht.put(\"ga\", \"collide\")\n",
    "\n",
    "for key in (\"good\", \"better\", \"best\", \"worst\", \"ad\", \"ga\"):\n",
    "    v = ht.get(key)\n",
    "    print(v)"
   ]
  },
  {
   "cell_type": "markdown",
   "metadata": {},
   "source": [
    "### Using `[]` with the hash table\n",
    "Using the `put()` and `get()` methods doesn't look very convenient to use. However, we would have preferred to be able to treat our hash table as a list, as it would be easier to use. For example, we would like to be able to use `ht(\"good\")` instead of `ht.get(\"good\")` for the retrieval of elements from the table.\n",
    "\n",
    "This can be done easilty with the special methods, `__setitem__()` and `__getitem__()`. See the code implemented above:\n",
    "```python\n",
    "    def __setitem__(self, key, value):\n",
    "        return self.put(key, value)\n",
    "    \n",
    "    def __getitem__(self, key):\n",
    "        return self.get(key)\n",
    "```\n",
    "Now we test code would be like the following:"
   ]
  },
  {
   "cell_type": "code",
   "execution_count": 4,
   "metadata": {},
   "outputs": [
    {
     "name": "stdout",
     "output_type": "stream",
     "text": [
      "eggs\n",
      "ham\n",
      "spam\n",
      "None\n",
      "do not\n",
      "collide\n",
      "The number of elements is: 5\n"
     ]
    }
   ],
   "source": [
    "ht = HashTable()\n",
    "ht['good'] = 'eggs'\n",
    "ht['better'] = 'ham'\n",
    "ht['best'] = 'spam'\n",
    "ht['ad'] = 'do not'\n",
    "ht['ga'] = 'collide'\n",
    "\n",
    "for key in (\"good\", \"better\", \"best\", \"worst\", \"ad\", \"ga\"):\n",
    "    v = ht.get(key)\n",
    "    print(v)\n",
    "    \n",
    "print(\"The number of elements is: {}\".format(ht.count))"
   ]
  },
  {
   "cell_type": "markdown",
   "metadata": {},
   "source": [
    "### Non-string keys\n",
    "In most cases in real-time applications, generally, we need to use strings for the keys. However, if necessary, you could use any other Python types. If you create your own class that you want to use as a key, you will need to override the special `__hash__()` function for that class, so that you get reliable hash values.\n",
    "\n",
    "Note that you would still have to calculate the modulo of the hash value and the size of the hash table to get the slot. That calculation should happen in the hash table and not in the key classsince the table knows its own size.\n",
    "### Growing a hash table\n",
    "In our example, we fixed the hash table size to 256. It is obvious that, when we add the elements to the hash table, we would begin to fill up the empty slots, and at some point, all of the slots would be filled up and the hash table will be full. To avoid such a situation, we can grow the size of the table when it is starting to get full.\n",
    "\n",
    "To grow the size of the hash table, we compare the size and the count in the table. `size` is the total number of the slots and `count` denotes the number of slots that contain elements. So, if `count` is equal to `size`, that means we have filled up the table. The load factor of the hash table is generally used to expand the size of the table, that gives us an indication of how many available slots of the table have been used. The load factor of the hash table is computed by dividing the number of **used** slots by the **total** number of slots in the table:\n",
    "\n",
    "$load \\ factor = \\frac{n}{k}$, where $n$ is the number of used slots and $k$ is the total number of slots.\n",
    "\n",
    "As the load factor value approaches 1, it means that the table is going to be filled, and we need to grow the size of the table. It is better to grow the size of the table before it gets almost full, as the retrieval of elements from the table becomes slow when the table fills up. A value of 0.75 for a load factor may be a good value to grow the size of the table.\n",
    "\n",
    "The next question is how much we should increase the size of the table. One strategy could be to double the size of the table.\n",
    "### Open addressing\n",
    "The collision resolution mechanism we used in our example was linear probing, which is an example of an *open addressing* strategy. Linear probing is simple since we used a fixed number of slots. There are other open addressing strategies as well, however, they all share the idea that there is an array of slots. When we want to insert a key, we check whether the slot already has an item or not. If it does, we look for the next available slot.\n",
    "\n",
    "If we have a hash table that contains 256 slots, then 256 is the maximum number of elements in that hash. Moreover, as the load factor increases, it will take longer to find the insertion point for the new element. Because of this, we need a new strategy to resolve collisions, *chaining*.\n",
    "### Chaining\n",
    "Chaining is another method to handle the problem of collision in hash tables. It solves this problem by allowing each slot in the hash table to store a reference to many items at the position of a collision. So, at the index of a collision, we are allowed to store many items in the hash table.\n",
    "\n",
    "When an element is inserted, it will be appended to the list that corresponds to that element's hash value. That is, if you have two elements that both have a hash value of 1075, both of these elements would be added to the list that exists in the `1075 % 256 = 51` slot of the hash table. Chaining then avoids conflict by allowing multiple elements to have the same hash value. Hence, there is no limit on the number of elements that can be stored in a hash table, whereas, in the case of linear probing, we had to fix the size of the table, which we need to later grow when the table is filled up, depending upon the load factor. Moreover, the hash table can hold more values than the number of available slots, since each slot holds a list that can grow.\n",
    "\n",
    "However, there is a problem in chaining-it becomes inefficient when a list grows at a particular hash value location. As a particular slot has many items, searching them can get very slow since we have to do a linear search through the list until we find the element that has the key we want. This can slow down retrieval, which is not good, since hash tables are meant to tbe efficient. The following diagram demonstrates a linear search through list items until we find a match.\n",
    "\n",
    "So, there is a problem of slow retrieval of items when a particular position in a hash table has many entries. This problem can be resolved using another data structure in place of using a list that can perform fast searching and retrieval. There is a nice choice of using **BSTs**, which provide fast retrieval, as we discussed in the previous chapter. The search tree could be inefficent, so we need to ensure that our BST is self-balancing.\n",
    "### Symbol tables\n",
    "Symbol tables are used by compilers and interpreters to keep track of the symbols that have been declared and to keep information about them. Symbol tables are often built using hash tables since it is important to efficiently retrieve a symbol from the tablde.\n",
    "\n",
    "Here is an example:\n",
    "```python\n",
    "name = \"Joe\"\n",
    "age = 27\n",
    "```\n",
    "HEre, we have two symbols, `name` and `age`. They belong to namespace, which  could be `__main__`, but it could also be the name of a module if you placed it there. Each symbol has a `value`; for example, the `name` symbol has the value, `Joe`, and the `age` symbol has the value, `27`. A symbol table allows the compiler or the interpreter to look up these values. So, the `name` and `age` symbols become keys in the hash table. All of the other information associated with them become the `value` of the symbol table entry.\n",
    "\n",
    "It's not only variables that are symbols, but functions and classes are also treated as symbols, and they will also be added to the symbol table so that, when any one of them needs to be accessed, they are accessible from the symbol table. For exapmle, the `greet()` function and two variables are stored in the symbol table in the diagram on page 199.\n",
    "\n",
    "In Python, each module that is loaded has its own symbol table. The symbol table is given the name of that module. This way, modules act as namespaces. We can have multiple symbols of the same name as long as they exist in different symbol tables, and we can access them through the appropriate symbol table."
   ]
  }
 ],
 "metadata": {
  "kernelspec": {
   "display_name": "Python 3.6.9 64-bit",
   "language": "python",
   "name": "python36964bita77d8b3ebc6c42fe84848c25c36134b2"
  },
  "language_info": {
   "codemirror_mode": {
    "name": "ipython",
    "version": 3
   },
   "file_extension": ".py",
   "mimetype": "text/x-python",
   "name": "python",
   "nbconvert_exporter": "python",
   "pygments_lexer": "ipython3",
   "version": "3.6.9"
  }
 },
 "nbformat": 4,
 "nbformat_minor": 4
}
